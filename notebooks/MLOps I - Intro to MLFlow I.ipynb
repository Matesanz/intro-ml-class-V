{
 "cells": [
  {
   "cell_type": "markdown",
   "id": "6a23af7e",
   "metadata": {},
   "source": [
    "# Intro to MLFLow I\n",
    "\n",
    "Learn how to\n",
    "- Install MLFlow\n",
    "- Run MLFlow server\n",
    "- Log parameters, metrics, and artifacts"
   ]
  },
  {
   "cell_type": "markdown",
   "id": "1a442a79",
   "metadata": {},
   "source": [
    "#### Import MLflow"
   ]
  },
  {
   "cell_type": "code",
   "execution_count": 1,
   "id": "9722fa20",
   "metadata": {},
   "outputs": [],
   "source": [
    "import mlflow"
   ]
  },
  {
   "cell_type": "markdown",
   "id": "86129954",
   "metadata": {},
   "source": [
    "#### Connect to MLFlow"
   ]
  },
  {
   "cell_type": "code",
   "execution_count": 2,
   "id": "97bb17eb",
   "metadata": {},
   "outputs": [],
   "source": [
    "MLFLOW_TRACKING_URI = \"http://127.0.0.1:5000\"\n",
    "\n",
    "mlflow.set_tracking_uri(MLFLOW_TRACKING_URI)"
   ]
  },
  {
   "cell_type": "code",
   "execution_count": 5,
   "id": "5427d122",
   "metadata": {},
   "outputs": [],
   "source": [
    "# if not working this will raise an exception\n",
    "experiments = mlflow.search_experiments()"
   ]
  },
  {
   "cell_type": "markdown",
   "id": "7713275d",
   "metadata": {},
   "source": [
    "#### Connect to the Experiment"
   ]
  },
  {
   "cell_type": "code",
   "execution_count": 10,
   "id": "84d05dcb",
   "metadata": {},
   "outputs": [
    {
     "data": {
      "text/plain": [
       "<Experiment: artifact_location='mlflow-artifacts:/859111263484469035', creation_time=1749578253387, experiment_id='859111263484469035', last_update_time=1749578253387, lifecycle_stage='active', name='My Experiment', tags={}>"
      ]
     },
     "execution_count": 10,
     "metadata": {},
     "output_type": "execute_result"
    }
   ],
   "source": [
    "EXPERIMENT_NAME = \"My Experiment\"\n",
    "\n",
    "mlflow.set_experiment(EXPERIMENT_NAME)"
   ]
  },
  {
   "cell_type": "markdown",
   "id": "58e335a2",
   "metadata": {},
   "source": [
    "#### Create my first run"
   ]
  },
  {
   "cell_type": "code",
   "execution_count": 13,
   "id": "59ebc859",
   "metadata": {},
   "outputs": [
    {
     "name": "stdout",
     "output_type": "stream",
     "text": [
      "🏃 View run spiffy-squid-530 at: http://127.0.0.1:5000/#/experiments/859111263484469035/runs/ede8f57a6f2746009c6e94b40dff7541\n",
      "🧪 View experiment at: http://127.0.0.1:5000/#/experiments/859111263484469035\n"
     ]
    }
   ],
   "source": [
    "with mlflow.start_run():\n",
    "    pass"
   ]
  },
  {
   "cell_type": "markdown",
   "id": "2c297acf",
   "metadata": {},
   "source": [
    "#### Log Data into MLFlow"
   ]
  },
  {
   "cell_type": "markdown",
   "id": "9869aa3f",
   "metadata": {},
   "source": [
    "Log Tags"
   ]
  },
  {
   "cell_type": "code",
   "execution_count": 15,
   "id": "e737d4db",
   "metadata": {},
   "outputs": [
    {
     "name": "stdout",
     "output_type": "stream",
     "text": [
      "🏃 View run inquisitive-colt-180 at: http://127.0.0.1:5000/#/experiments/859111263484469035/runs/356c989b863e4c32bbd678a65f9769f5\n",
      "🧪 View experiment at: http://127.0.0.1:5000/#/experiments/859111263484469035\n"
     ]
    }
   ],
   "source": [
    "with mlflow.start_run():\n",
    "    mlflow.set_tag(\"Model name\", \"Decision Tree\")\n",
    "    mlflow.set_tag(\"Author\", \"Mate\")"
   ]
  },
  {
   "cell_type": "markdown",
   "id": "6e44aff9",
   "metadata": {},
   "source": [
    "Log Parameters"
   ]
  },
  {
   "cell_type": "code",
   "execution_count": 16,
   "id": "5eba119d",
   "metadata": {},
   "outputs": [
    {
     "name": "stdout",
     "output_type": "stream",
     "text": [
      "🏃 View run useful-horse-984 at: http://127.0.0.1:5000/#/experiments/859111263484469035/runs/4d4f88c89b22467983a867cffc360234\n",
      "🧪 View experiment at: http://127.0.0.1:5000/#/experiments/859111263484469035\n"
     ]
    }
   ],
   "source": [
    "with mlflow.start_run():\n",
    "    mlflow.log_param(\"Test Size\", 0.2)\n"
   ]
  },
  {
   "cell_type": "markdown",
   "id": "0eebb8aa",
   "metadata": {},
   "source": [
    "Log Metrics"
   ]
  },
  {
   "cell_type": "code",
   "execution_count": 17,
   "id": "e52dacc5",
   "metadata": {},
   "outputs": [
    {
     "name": "stdout",
     "output_type": "stream",
     "text": [
      "🏃 View run nebulous-quail-982 at: http://127.0.0.1:5000/#/experiments/859111263484469035/runs/835757e207ce4b868f17c98789c21cd4\n",
      "🧪 View experiment at: http://127.0.0.1:5000/#/experiments/859111263484469035\n"
     ]
    }
   ],
   "source": [
    "with mlflow.start_run():\n",
    "    mlflow.log_metric(\"Accuracy\", 0.95)\n"
   ]
  },
  {
   "cell_type": "markdown",
   "id": "490a90c2",
   "metadata": {},
   "source": [
    "Log parameters, metrics, and tags"
   ]
  },
  {
   "cell_type": "code",
   "execution_count": null,
   "id": "1f566f68",
   "metadata": {},
   "outputs": [
    {
     "name": "stdout",
     "output_type": "stream",
     "text": [
      "🏃 View run efficient-cub-662 at: http://127.0.0.1:5000/#/experiments/859111263484469035/runs/90b2a0d4396a4fd2bd83994e76f6ad32\n",
      "🧪 View experiment at: http://127.0.0.1:5000/#/experiments/859111263484469035\n"
     ]
    }
   ],
   "source": [
    "TEST_SIZE = 0.3\n",
    "MODEL = \"Decision Tree\"\n",
    "\n",
    "with mlflow.start_run():\n",
    "    mlflow.set_tag(\"Model name\", MODEL)\n",
    "    mlflow.log_param(\"Test Size\", TEST_SIZE)\n",
    "    mlflow.log_metric(\"Accuracy\", 0.95)"
   ]
  }
 ],
 "metadata": {
  "kernelspec": {
   "display_name": "venv",
   "language": "python",
   "name": "python3"
  },
  "language_info": {
   "codemirror_mode": {
    "name": "ipython",
    "version": 3
   },
   "file_extension": ".py",
   "mimetype": "text/x-python",
   "name": "python",
   "nbconvert_exporter": "python",
   "pygments_lexer": "ipython3",
   "version": "3.13.4"
  }
 },
 "nbformat": 4,
 "nbformat_minor": 5
}
