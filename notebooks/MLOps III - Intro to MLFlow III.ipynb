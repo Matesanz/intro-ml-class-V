{
 "cells": [
  {
   "cell_type": "markdown",
   "metadata": {},
   "source": [
    "# Call a Model API\n",
    "\n",
    "Once your model is deployed, you can call it using the `requests` library. MLFlow builds an API endpoint for your model, the endpoints are the following:\n",
    "\n",
    "- `POST /invocations`: An inference endpoint that accepts POST requests with input data and returns predictions.\n",
    "- `GET /ping`: Used for health checks.\n",
    "- `GET /health`: Same as /ping\n",
    "- `GET /version`: Returns the MLflow version."
   ]
  },
  {
   "cell_type": "markdown",
   "metadata": {},
   "source": [
    "## Calling Public API using Python"
   ]
  },
  {
   "cell_type": "code",
   "execution_count": 8,
   "metadata": {},
   "outputs": [
    {
     "data": {
      "text/plain": [
       "{'data': [{'id': '00b777af-dc97-43c4-b2d1-0c6e20aaf0e0',\n",
       "   'type': 'fact',\n",
       "   'attributes': {'body': 'It’s not so black and white. It’s a myth that dogs only see in black and white. In fact, it’s believed that dogs see primarily in blue, greenish-yellow, yellow and various shades of gray.'}}]}"
      ]
     },
     "execution_count": 8,
     "metadata": {},
     "output_type": "execute_result"
    }
   ],
   "source": [
    "import requests\n",
    "\n",
    "BASE_URL = \"https://dogapi.dog/api/v2/\"\n",
    "ENDPOINT = \"facts\"\n",
    "URL = BASE_URL + ENDPOINT\n",
    "\n",
    "response = requests.get(URL)\n",
    "response.json()"
   ]
  },
  {
   "cell_type": "markdown",
   "metadata": {},
   "source": [
    "## Check the model status\n",
    "\n",
    "First, we need to check if the model is running. We can do this by calling the `/ping` endpoint."
   ]
  },
  {
   "cell_type": "code",
   "execution_count": 11,
   "metadata": {},
   "outputs": [
    {
     "data": {
      "text/plain": [
       "'\\n'"
      ]
     },
     "execution_count": 11,
     "metadata": {},
     "output_type": "execute_result"
    }
   ],
   "source": [
    "import requests\n",
    "\n",
    "ENDPOINT = \"http://localhost:5001/health\"\n",
    "\n",
    "response = requests.get(ENDPOINT)\n",
    "response.text"
   ]
  },
  {
   "cell_type": "markdown",
   "metadata": {},
   "source": [
    "## Check the model version\n",
    "\n",
    "We can also check the model version by calling the `/version` endpoint."
   ]
  },
  {
   "cell_type": "code",
   "execution_count": 12,
   "metadata": {},
   "outputs": [
    {
     "data": {
      "text/plain": [
       "'2.22.1'"
      ]
     },
     "execution_count": 12,
     "metadata": {},
     "output_type": "execute_result"
    }
   ],
   "source": [
    "import requests\n",
    "\n",
    "ENDPOINT = \"http://127.0.0.1:5001/version\"\n",
    "\n",
    "response = requests.get(ENDPOINT)\n",
    "response.text"
   ]
  },
  {
   "cell_type": "markdown",
   "metadata": {},
   "source": [
    "## Call the model\n",
    "\n",
    "The model is ready to receive requests. We can call the `/invocations` endpoint with the input data to get the predictions. Let's go step by step:\n",
    "\n",
    "### 1. Define the endpoint URL."
   ]
  },
  {
   "cell_type": "code",
   "execution_count": 13,
   "metadata": {},
   "outputs": [],
   "source": [
    "# Define the URL and payload (JSON data)\n",
    "ENDPOINT = 'http://localhost:5001/invocations'"
   ]
  },
  {
   "cell_type": "markdown",
   "metadata": {},
   "source": [
    "### 2. Prepare the data to be sent\n",
    "\n",
    "Now we prepare the **data to be sent** to the model. When sending data remember we have 2 parts:\n",
    "\n",
    "- **Body**: also called payload, it is the data we want to send to the model. The data should be in JSON format (in python, it is a dictionary). The JSON has a single key `inputs` and the value is a list of vectors. Each vector has 8 elements, those are the features of the model. The model will return a list of predictions, one for each input vector. The body is\n",
    "- **Headers**: we need to specify the content type of the data we are sending. In this case, it is `application/json`."
   ]
  },
  {
   "cell_type": "code",
   "execution_count": 19,
   "metadata": {},
   "outputs": [],
   "source": [
    "# we build de body (payload) of the request\n",
    "headers = {'Content-Type': 'application/json'}\n",
    "features = [[0.1, 0.2, 0.3, 0.4], [6, 3, 6, 3]]  # list of lists (vectors)\n",
    "body = {'inputs': features}"
   ]
  },
  {
   "cell_type": "markdown",
   "metadata": {},
   "source": [
    "### 4. Send the request\n",
    "\n",
    "Now we send the request (POST) to the model using the `requests` library. The response will be a JSON with the predictions."
   ]
  },
  {
   "cell_type": "code",
   "execution_count": 23,
   "metadata": {},
   "outputs": [
    {
     "data": {
      "text/plain": [
       "{'predictions': ['setosa', 'virginica']}"
      ]
     },
     "execution_count": 23,
     "metadata": {},
     "output_type": "execute_result"
    }
   ],
   "source": [
    "# Make a POST request\n",
    "response = requests.post(ENDPOINT, headers=headers, json=body)\n",
    "response.json()"
   ]
  },
  {
   "cell_type": "markdown",
   "metadata": {},
   "source": [
    "We can check that the status code of the response is 200, which means the request was successful."
   ]
  },
  {
   "cell_type": "code",
   "execution_count": 18,
   "metadata": {},
   "outputs": [
    {
     "data": {
      "text/plain": [
       "200"
      ]
     },
     "execution_count": 18,
     "metadata": {},
     "output_type": "execute_result"
    }
   ],
   "source": [
    "# Check the response\n",
    "response.status_code"
   ]
  },
  {
   "cell_type": "markdown",
   "metadata": {},
   "source": [
    "## 5. Full code example"
   ]
  },
  {
   "cell_type": "code",
   "execution_count": null,
   "metadata": {},
   "outputs": [
    {
     "data": {
      "text/plain": [
       "{'predictions': ['virginica']}"
      ]
     },
     "execution_count": 25,
     "metadata": {},
     "output_type": "execute_result"
    }
   ],
   "source": [
    "# Define the URL and payload (JSON data)\n",
    "ENDPOINT = 'http://localhost:5001/invocations'\n",
    "\n",
    "# we build de body (payload) of the request\n",
    "headers = {'Content-Type': 'application/json'}\n",
    "features = [[6, 3, 6, 3]]  # list of lists (vectors)\n",
    "body = {'inputs': features}\n",
    "\n",
    "response = requests.post(ENDPOINT, headers=headers, json=body)\n",
    "response.json()"
   ]
  },
  {
   "cell_type": "markdown",
   "metadata": {},
   "source": [
    "## 6. Call model with pandas DataFrame"
   ]
  },
  {
   "cell_type": "code",
   "execution_count": 54,
   "metadata": {},
   "outputs": [
    {
     "data": {
      "text/plain": [
       "{'predictions': ['virginica']}"
      ]
     },
     "execution_count": 54,
     "metadata": {},
     "output_type": "execute_result"
    }
   ],
   "source": [
    "import pandas as pd\n",
    "\n",
    "df = pd.DataFrame({\n",
    "    'sepal_length': [5],\n",
    "    'sepal_width': [2.5],\n",
    "    'petal_length': [1.4*4],\n",
    "    'petal_width': [0.2*4],\n",
    "})\n",
    "\n",
    "body = {'dataframe_split': df.to_dict(orient='split')}\n",
    "response = requests.post(ENDPOINT, headers=headers, json=body)\n",
    "response.json()"
   ]
  }
 ],
 "metadata": {
  "kernelspec": {
   "display_name": "venv",
   "language": "python",
   "name": "python3"
  },
  "language_info": {
   "codemirror_mode": {
    "name": "ipython",
    "version": 3
   },
   "file_extension": ".py",
   "mimetype": "text/x-python",
   "name": "python",
   "nbconvert_exporter": "python",
   "pygments_lexer": "ipython3",
   "version": "3.13.4"
  }
 },
 "nbformat": 4,
 "nbformat_minor": 2
}
